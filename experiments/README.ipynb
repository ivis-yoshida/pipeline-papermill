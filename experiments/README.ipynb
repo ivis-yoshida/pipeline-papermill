{
 "cells": [
  {
   "cell_type": "markdown",
   "id": "79b4d068-3b7a-4717-aa03-8a077b34af9d",
   "metadata": {},
   "source": [
    "# experiments"
   ]
  },
  {
   "cell_type": "markdown",
   "id": "20f2d8a2-3503-4702-b16c-6701eb3dc7ba",
   "metadata": {},
   "source": [
    "## 実験パイプライン情報の取得"
   ]
  },
  {
   "cell_type": "code",
   "execution_count": 35,
   "id": "208579b9-070c-449d-bc26-a152ff52e400",
   "metadata": {},
   "outputs": [],
   "source": [
    "import json\n",
    "\n",
    "pipeline = json.load(open(\"pipeline.json\"))"
   ]
  },
  {
   "cell_type": "markdown",
   "id": "aafc65db-adf6-4ec5-931d-6bae110ec306",
   "metadata": {},
   "source": [
    "## 実験パイプラインの実行"
   ]
  },
  {
   "cell_type": "code",
   "execution_count": 36,
   "id": "39552e78-48cb-44cf-86d1-cf3d759f00a9",
   "metadata": {},
   "outputs": [
    {
     "name": "stdout",
     "output_type": "stream",
     "text": [
      "\n",
      "============================================================ experiment1\n",
      "\n",
      "# 出力ディレクトリの初期化\n",
      "$ rm -rf experiment1/output_data/*\n",
      "\n",
      "前実験の出力データを当実験の入力データとして複製\n",
      "\n",
      "実験再現のための環境構築\n",
      "$ pip install -r experiment1/requirements.txt\n",
      "Requirement already satisfied: pandas in /srv/conda/envs/notebook/lib/python3.8/site-packages (from -r experiment1/requirements.txt (line 1)) (1.3.5)\n",
      "Requirement already satisfied: python-dateutil>=2.7.3 in /srv/conda/envs/notebook/lib/python3.8/site-packages (from pandas->-r experiment1/requirements.txt (line 1)) (2.8.2)\n",
      "Requirement already satisfied: numpy>=1.17.3 in /srv/conda/envs/notebook/lib/python3.8/site-packages (from pandas->-r experiment1/requirements.txt (line 1)) (1.22.0)\n",
      "Requirement already satisfied: pytz>=2017.3 in /srv/conda/envs/notebook/lib/python3.8/site-packages (from pandas->-r experiment1/requirements.txt (line 1)) (2021.3)\n",
      "Requirement already satisfied: six>=1.5 in /srv/conda/envs/notebook/lib/python3.8/site-packages (from python-dateutil>=2.7.3->pandas->-r experiment1/requirements.txt (line 1)) (1.16.0)\n",
      "\n",
      "実験ソースコードの実行\n",
      "$ cd experiment1/source/\n",
      "/home/jovyan/experiments/experiment1/source\n"
     ]
    },
    {
     "data": {
      "application/vnd.jupyter.widget-view+json": {
       "model_id": "3fb8ff0fa59b45fe92850b373bcf33b1",
       "version_major": 2,
       "version_minor": 0
      },
      "text/plain": [
       "Executing:   0%|          | 0/1 [00:00<?, ?cell/s]"
      ]
     },
     "metadata": {},
     "output_type": "display_data"
    },
    {
     "name": "stdout",
     "output_type": "stream",
     "text": [
      "$ cd -\n",
      "/home/jovyan/experiments\n",
      "\n",
      "実験後の出力データを登録\n",
      "\n",
      "============================================================ experiment2\n",
      "\n",
      "# 出力ディレクトリの初期化\n",
      "$ rm -rf experiment2/output_data/*\n",
      "\n",
      "前実験の出力データを当実験の入力データとして複製\n",
      "$ cp -rf experiment1/output_data/* experiment2/input_data/\n",
      "\n",
      "実験再現のための環境構築\n",
      "$ pip install -r experiment2/requirements.txt\n",
      "Requirement already satisfied: pandas in /srv/conda/envs/notebook/lib/python3.8/site-packages (from -r experiment2/requirements.txt (line 1)) (1.3.5)\n",
      "Requirement already satisfied: numpy>=1.17.3 in /srv/conda/envs/notebook/lib/python3.8/site-packages (from pandas->-r experiment2/requirements.txt (line 1)) (1.22.0)\n",
      "Requirement already satisfied: python-dateutil>=2.7.3 in /srv/conda/envs/notebook/lib/python3.8/site-packages (from pandas->-r experiment2/requirements.txt (line 1)) (2.8.2)\n",
      "Requirement already satisfied: pytz>=2017.3 in /srv/conda/envs/notebook/lib/python3.8/site-packages (from pandas->-r experiment2/requirements.txt (line 1)) (2021.3)\n",
      "Requirement already satisfied: six>=1.5 in /srv/conda/envs/notebook/lib/python3.8/site-packages (from python-dateutil>=2.7.3->pandas->-r experiment2/requirements.txt (line 1)) (1.16.0)\n",
      "\n",
      "実験ソースコードの実行\n",
      "$ cd experiment2/source/\n",
      "/home/jovyan/experiments/experiment2/source\n"
     ]
    },
    {
     "data": {
      "application/vnd.jupyter.widget-view+json": {
       "model_id": "1498bca12ea845fc8c9fb2fdf3014f99",
       "version_major": 2,
       "version_minor": 0
      },
      "text/plain": [
       "Executing:   0%|          | 0/1 [00:00<?, ?cell/s]"
      ]
     },
     "metadata": {},
     "output_type": "display_data"
    },
    {
     "name": "stdout",
     "output_type": "stream",
     "text": [
      "$ cd -\n",
      "/home/jovyan/experiments\n",
      "\n",
      "実験後の出力データを登録\n",
      "\n",
      "============================================================ experiment3\n",
      "\n",
      "# 出力ディレクトリの初期化\n",
      "$ rm -rf experiment3/output_data/*\n",
      "\n",
      "前実験の出力データを当実験の入力データとして複製\n",
      "$ cp -rf experiment1/output_data/* experiment3/input_data/\n",
      "$ cp -rf experiment2/output_data/* experiment3/input_data/\n",
      "\n",
      "実験再現のための環境構築\n",
      "$ pip install -r experiment3/requirements.txt\n",
      "Requirement already satisfied: pandas in /srv/conda/envs/notebook/lib/python3.8/site-packages (from -r experiment3/requirements.txt (line 1)) (1.3.5)\n",
      "Requirement already satisfied: pytz>=2017.3 in /srv/conda/envs/notebook/lib/python3.8/site-packages (from pandas->-r experiment3/requirements.txt (line 1)) (2021.3)\n",
      "Requirement already satisfied: numpy>=1.17.3 in /srv/conda/envs/notebook/lib/python3.8/site-packages (from pandas->-r experiment3/requirements.txt (line 1)) (1.22.0)\n",
      "Requirement already satisfied: python-dateutil>=2.7.3 in /srv/conda/envs/notebook/lib/python3.8/site-packages (from pandas->-r experiment3/requirements.txt (line 1)) (2.8.2)\n",
      "Requirement already satisfied: six>=1.5 in /srv/conda/envs/notebook/lib/python3.8/site-packages (from python-dateutil>=2.7.3->pandas->-r experiment3/requirements.txt (line 1)) (1.16.0)\n",
      "\n",
      "実験ソースコードの実行\n",
      "$ cd experiment3/source/\n",
      "/home/jovyan/experiments/experiment3/source\n"
     ]
    },
    {
     "data": {
      "application/vnd.jupyter.widget-view+json": {
       "model_id": "2d790c2efe0840009f68402e42c41903",
       "version_major": 2,
       "version_minor": 0
      },
      "text/plain": [
       "Executing:   0%|          | 0/1 [00:00<?, ?cell/s]"
      ]
     },
     "metadata": {},
     "output_type": "display_data"
    },
    {
     "name": "stdout",
     "output_type": "stream",
     "text": [
      "$ cd -\n",
      "/home/jovyan/experiments\n",
      "\n",
      "実験後の出力データを登録\n"
     ]
    }
   ],
   "source": [
    "import papermill\n",
    "\n",
    "outputs = []\n",
    "\n",
    "for experiment in pipeline:\n",
    "    print(\"\\n============================================================ \" + experiment)\n",
    "\n",
    "    print(\"\\n# 出力ディレクトリの初期化\")\n",
    "    cmd = \"rm -rf \" + experiment + \"/output_data/*\"\n",
    "    print(\"$ \" + cmd)\n",
    "    !$cmd\n",
    "    \n",
    "    print(\"\\n前実験の出力データを当実験の入力データとして複製\")\n",
    "    for output in outputs:\n",
    "        cmd = \"cp -rf \" + output + \"/output_data/* \" + experiment + \"/input_data/\" \n",
    "        print(\"$ \" + cmd)\n",
    "        !$cmd\n",
    "\n",
    "    print(\"\\n実験再現のための環境構築\")\n",
    "    cmd = \"pip install -r \" + experiment + \"/requirements.txt\"\n",
    "    print(\"$ \" + cmd)\n",
    "    !$cmd\n",
    "\n",
    "    print(\"\\n実験ソースコードの実行\")\n",
    "    cmd = experiment + \"/source/\"\n",
    "    print(\"$ cd \" + cmd)\n",
    "    %cd $cmd\n",
    "\n",
    "    papermill.execute_notebook(experiment + \".ipynb\", \"../output_data/log.ipynb\")\n",
    "    \n",
    "    cmd = \"-\"\n",
    "    print(\"$ cd \" + cmd)\n",
    "    %cd $cmd\n",
    "\n",
    "    print(\"\\n実験後の出力データを登録\")\n",
    "    outputs += [experiment]"
   ]
  },
  {
   "cell_type": "code",
   "execution_count": null,
   "id": "d6be3e8b-3670-4185-9f09-53997789d44e",
   "metadata": {},
   "outputs": [],
   "source": []
  }
 ],
 "metadata": {
  "kernelspec": {
   "display_name": "Python 3 (ipykernel)",
   "language": "python",
   "name": "python3"
  },
  "language_info": {
   "codemirror_mode": {
    "name": "ipython",
    "version": 3
   },
   "file_extension": ".py",
   "mimetype": "text/x-python",
   "name": "python",
   "nbconvert_exporter": "python",
   "pygments_lexer": "ipython3",
   "version": "3.8.12"
  }
 },
 "nbformat": 4,
 "nbformat_minor": 5
}
