{
 "cells": [
  {
   "cell_type": "code",
   "execution_count": 1,
   "id": "efb2e607",
   "metadata": {
    "execution": {
     "iopub.execute_input": "2022-01-04T10:53:44.122218Z",
     "iopub.status.busy": "2022-01-04T10:53:44.115728Z",
     "iopub.status.idle": "2022-01-04T10:53:44.130381Z",
     "shell.execute_reply": "2022-01-04T10:53:44.129769Z"
    },
    "papermill": {
     "duration": 0.023287,
     "end_time": "2022-01-04T10:53:44.130574",
     "exception": false,
     "start_time": "2022-01-04T10:53:44.107287",
     "status": "completed"
    },
    "tags": []
   },
   "outputs": [],
   "source": [
    "import os\n",
    "import csv\n",
    "\n",
    "with open(\"../input_data/output1.csv\", 'r') as f:\n",
    "    line = [row for row in csv.reader(f)]\n",
    "\n",
    "with open(\"../output_data/output2.csv\", mode='w') as f:\n",
    "    writer = csv.writer(f, delimiter='｜')\n",
    "    writer.writerows(line)"
   ]
  }
 ],
 "metadata": {
  "celltoolbar": "Tags",
  "kernelspec": {
   "display_name": "Python 3 (ipykernel)",
   "language": "python",
   "name": "python3"
  },
  "language_info": {
   "codemirror_mode": {
    "name": "ipython",
    "version": 3
   },
   "file_extension": ".py",
   "mimetype": "text/x-python",
   "name": "python",
   "nbconvert_exporter": "python",
   "pygments_lexer": "ipython3",
   "version": "3.8.12"
  },
  "papermill": {
   "duration": 3.676371,
   "end_time": "2022-01-04T10:53:46.749357",
   "environment_variables": {},
   "exception": null,
   "input_path": "experiment2.ipynb",
   "output_path": "../output_data/log.ipynb",
   "parameters": {
    "product": {
     "data": "/home/jovyan/csv_pipeline/output/output_B.csv",
     "nb": "/home/jovyan/csv_pipeline/output/log_code_B.ipynb"
    },
    "upstream": {
     "code_A": {
      "data": "/home/jovyan/csv_pipeline/output/output_A.csv",
      "nb": "/home/jovyan/csv_pipeline/output/log_code_A.ipynb"
     }
    }
   },
   "start_time": "2022-01-04T10:53:43.072986",
   "version": null
  }
 },
 "nbformat": 4,
 "nbformat_minor": 5
}