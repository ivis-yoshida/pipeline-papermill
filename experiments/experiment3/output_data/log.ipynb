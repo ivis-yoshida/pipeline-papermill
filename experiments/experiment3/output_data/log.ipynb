{
 "cells": [
  {
   "cell_type": "code",
   "execution_count": 1,
   "id": "71a0821e",
   "metadata": {
    "execution": {
     "iopub.execute_input": "2022-01-04T10:53:52.193186Z",
     "iopub.status.busy": "2022-01-04T10:53:52.192155Z",
     "iopub.status.idle": "2022-01-04T10:53:52.199967Z",
     "shell.execute_reply": "2022-01-04T10:53:52.199140Z"
    },
    "papermill": {
     "duration": 0.026872,
     "end_time": "2022-01-04T10:53:52.200202",
     "exception": false,
     "start_time": "2022-01-04T10:53:52.173330",
     "status": "completed"
    },
    "tags": []
   },
   "outputs": [],
   "source": [
    "import os\n",
    "import csv\n",
    "\n",
    "with open(\"../input_data/output1.csv\", 'r') as f:\n",
    "    reader = csv.reader(f)\n",
    "    line_a = [row for row in reader]\n",
    "\n",
    "with open(\"../input_data/output2.csv\", 'r') as f:\n",
    "    reader = csv.reader(f, delimiter='｜')\n",
    "    line_b = [row for row in reader]\n",
    "\n",
    "with open(\"../output_data/output3.csv\", mode='w') as f:\n",
    "    writer = csv.writer(f, delimiter='／')\n",
    "    writer.writerows(line_b)\n",
    "    writer.writerow(line_a[2])\n",
    "    writer.writerow([13101,\"1010032\",\"ﾄｳｷｮｳﾄ\",\"ﾁﾖﾀﾞｸ\",\"ｲﾜﾓﾄﾁｮｳ\",\"東京都\",\"千代田区\",\"岩本町\"])"
   ]
  }
 ],
 "metadata": {
  "celltoolbar": "Tags",
  "kernelspec": {
   "display_name": "Python 3 (ipykernel)",
   "language": "python",
   "name": "python3"
  },
  "language_info": {
   "codemirror_mode": {
    "name": "ipython",
    "version": 3
   },
   "file_extension": ".py",
   "mimetype": "text/x-python",
   "name": "python",
   "nbconvert_exporter": "python",
   "pygments_lexer": "ipython3",
   "version": "3.8.12"
  },
  "papermill": {
   "duration": 1.369924,
   "end_time": "2022-01-04T10:53:52.418425",
   "environment_variables": {},
   "exception": null,
   "input_path": "experiment3.ipynb",
   "output_path": "../output_data/log.ipynb",
   "parameters": {
    "product": {
     "data": "/home/jovyan/csv_pipeline/output/output_C.csv",
     "nb": "/home/jovyan/csv_pipeline/output/log_code_C.ipynb"
    },
    "upstream": {
     "code_A": {
      "data": "/home/jovyan/csv_pipeline/output/output_A.csv",
      "nb": "/home/jovyan/csv_pipeline/output/log_code_A.ipynb"
     },
     "code_B": {
      "data": "/home/jovyan/csv_pipeline/output/output_B.csv",
      "nb": "/home/jovyan/csv_pipeline/output/log_code_B.ipynb"
     }
    }
   },
   "start_time": "2022-01-04T10:53:51.048501",
   "version": null
  }
 },
 "nbformat": 4,
 "nbformat_minor": 5
}