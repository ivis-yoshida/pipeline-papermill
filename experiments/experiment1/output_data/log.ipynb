{
 "cells": [
  {
   "cell_type": "code",
   "execution_count": 1,
   "id": "aadd6487",
   "metadata": {
    "execution": {
     "iopub.execute_input": "2022-01-04T10:53:39.128553Z",
     "iopub.status.busy": "2022-01-04T10:53:39.127709Z",
     "iopub.status.idle": "2022-01-04T10:53:39.133185Z",
     "shell.execute_reply": "2022-01-04T10:53:39.133603Z"
    },
    "papermill": {
     "duration": 0.025459,
     "end_time": "2022-01-04T10:53:39.133905",
     "exception": false,
     "start_time": "2022-01-04T10:53:39.108446",
     "status": "completed"
    },
    "tags": []
   },
   "outputs": [],
   "source": [
    "import os\n",
    "import csv\n",
    "\n",
    "with open(\"../input_data/sample_utf8.csv\", 'r') as f:\n",
    "    reader = csv.reader(f)\n",
    "    line = [row for row in reader]\n",
    "        \n",
    "with open(\"../output_data/output1.csv\", mode='w') as f:\n",
    "    writer = csv.writer(f)\n",
    "    writer.writerow(line[0])\n",
    "    writer.writerow(line[1])\n",
    "    writer.writerow(line[2])"
   ]
  }
 ],
 "metadata": {
  "celltoolbar": "Tags",
  "kernelspec": {
   "display_name": "Python 3 (ipykernel)",
   "language": "python",
   "name": "python3"
  },
  "language_info": {
   "codemirror_mode": {
    "name": "ipython",
    "version": 3
   },
   "file_extension": ".py",
   "mimetype": "text/x-python",
   "name": "python",
   "nbconvert_exporter": "python",
   "pygments_lexer": "ipython3",
   "version": "3.8.12"
  },
  "papermill": {
   "duration": 1.229109,
   "end_time": "2022-01-04T10:53:39.348335",
   "environment_variables": {},
   "exception": null,
   "input_path": "experiment1.ipynb",
   "output_path": "../output_data/log.ipynb",
   "parameters": {
    "input_csv": "experiment1/input_data/sample_utf8.csv",
    "product": {
     "data": "/home/jovyan/experiments/experiment1/output_data/output.csv",
     "nb": "/home/jovyan/experiments/experiment1/output_data/log.ipynb"
    }
   },
   "start_time": "2022-01-04T10:53:38.119226",
   "version": null
  }
 },
 "nbformat": 4,
 "nbformat_minor": 5
}